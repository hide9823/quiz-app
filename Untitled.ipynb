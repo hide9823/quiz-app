{
 "cells": [
  {
   "cell_type": "code",
   "execution_count": null,
   "id": "95ef06b5-3ffd-4269-9220-36acddd4500c",
   "metadata": {},
   "outputs": [],
   "source": [
    "import json\n",
    "import re\n",
    "import PyPDF2\n",
    "\n",
    "# PDF ファイルパスを指定\n",
    "pdf_path = '令和５年度前期　ビジネス・キャリア検定試験_オペレーション.pdf'\n",
    "\n",
    "# PDF を開いてテキスト抽出\n",
    "reader = PyPDF2.PdfReader(pdf_path)\n",
    "full_text = \"\"\n",
    "for page in reader.pages:\n",
    "    full_text += page.extract_text() + \"\\n\"\n",
    "\n",
    "# 「問題番号～禁転載複製」ごとに分割\n",
    "pattern = r'問題(\\d+)[\\s\\S]*?(?=問題\\d+|禁転載複製)'\n",
    "parts = re.split(pattern, full_text)[1:]  # [num1, text1, num2, text2, …]\n",
    "\n",
    "questions = []\n",
    "for i in range(0, len(parts), 2):\n",
    "    num = int(parts[i].strip())\n",
    "    block = parts[i+1].strip()\n",
    "    # 問題文と選択肢に分ける\n",
    "    m = re.search(r'(.*?)(ア．.+)', block, re.DOTALL)\n",
    "    if not m:\n",
    "        continue\n",
    "    q_text = m.group(1).replace(\"\\n\", \" \").strip()\n",
    "    choices_text = m.group(2).strip()\n",
    "    # 選択肢を辞書化\n",
    "    choices = dict(re.findall(r'([アイウエ])．\\s*([^アイウエ]+)', choices_text))\n",
    "    questions.append({\n",
    "        \"question_number\": num,\n",
    "        \"question_text\": q_text,\n",
    "        \"choices\": {k: v.strip().replace(\"\\n\", \" \") for k, v in choices.items()}\n",
    "    })\n",
    "\n",
    "# JSON として保存\n",
    "output_path = 'operation_quiz.json'\n",
    "with open(output_path, 'w', encoding='utf-8') as f:\n",
    "    json.dump(questions, f, ensure_ascii=False, indent=2)\n",
    "\n",
    "print(f\"✅ JSON を出力しました: {output_path}\")"
   ]
  }
 ],
 "metadata": {
  "kernelspec": {
   "display_name": "Python 3 (ipykernel)",
   "language": "python",
   "name": "python3"
  },
  "language_info": {
   "codemirror_mode": {
    "name": "ipython",
    "version": 3
   },
   "file_extension": ".py",
   "mimetype": "text/x-python",
   "name": "python",
   "nbconvert_exporter": "python",
   "pygments_lexer": "ipython3",
   "version": "3.13.3"
  }
 },
 "nbformat": 4,
 "nbformat_minor": 5
}
